{
  "nbformat": 4,
  "nbformat_minor": 0,
  "metadata": {
    "colab": {
      "private_outputs": true,
      "provenance": []
    },
    "kernelspec": {
      "name": "python3",
      "display_name": "Python 3"
    },
    "language_info": {
      "name": "python"
    }
  },
  "cells": [
    {
      "cell_type": "markdown",
      "source": [
        "# Snowflake Worksheets 총 정리"
      ],
      "metadata": {
        "id": "ra5CShDdCdD0"
      }
    },
    {
      "cell_type": "markdown",
      "source": [
        "## GCS 연결 설정"
      ],
      "metadata": {
        "id": "KNz4xZQdCrAX"
      }
    },
    {
      "cell_type": "markdown",
      "source": [
        "1. GCS Integration"
      ],
      "metadata": {
        "id": "MJQ0W2r9C09H"
      }
    },
    {
      "cell_type": "code",
      "execution_count": null,
      "metadata": {
        "id": "9NPxxgSVCaYs"
      },
      "outputs": [],
      "source": [
        "CREATE STORAGE INTEGRATION gcs_int\n",
        "  TYPE = EXTERNAL_STAGE\n",
        "  STORAGE_PROVIDER = 'GCS'\n",
        "  ENABLED = TRUE\n",
        "  STORAGE_ALLOWED_LOCATIONS = ('gcs://test-devcourse');\n",
        "\n",
        "DESC STORAGE INTEGRATION gcs_int;\n",
        "\n",
        "CREATE STORAGE INTEGRATION gcs_proj2\n",
        "  TYPE = EXTERNAL_STAGE\n",
        "  STORAGE_PROVIDER = 'GCS'\n",
        "  ENABLED = TRUE\n",
        "  STORAGE_ALLOWED_LOCATIONS = ('gcs://programmers-devcourse-project2');\n",
        "\n",
        "DESC STORAGE INTEGRATION gcs_proj2;"
      ]
    },
    {
      "cell_type": "markdown",
      "source": [
        "2. File Format"
      ],
      "metadata": {
        "id": "2c_ukaLhDCQP"
      }
    },
    {
      "cell_type": "code",
      "source": [
        "CREATE OR REPLACE FILE format csv_format_2\n",
        "TYPE = csv\n",
        "FIELD_DELIMITER= '|'\n",
        "SKIP_HEADER = 1\n",
        "EMPTY_FIELD_AS_NULL = false;\n",
        "\n",
        "CREATE OR REPLACE FILE format my_csv_format\n",
        "TYPE = csv\n",
        "FIELD_DELIMITER= ','\n",
        "SKIP_HEADER = 1\n",
        "NULL_IF = ('NULL', 'null')\n",
        "EMPTY_FIELD_AS_NULL = true\n",
        "DATE_FORMAT='YYYYMMDD';\n",
        "\n",
        "CREATE OR REPLACE FILE format my_csv_format2\n",
        "TYPE = csv\n",
        "FIELD_DELIMITER= ','\n",
        "SKIP_HEADER = 1\n",
        "NULL_IF = ('NULL', 'null')\n",
        "EMPTY_FIELD_AS_NULL = true;\n",
        "\n",
        "CREATE OR REPLACE FILE format kor_csv_format\n",
        "TYPE = csv\n",
        "FIELD_DELIMITER= ','\n",
        "SKIP_HEADER = 1\n",
        "NULL_IF = ('NULL', 'null')\n",
        "EMPTY_FIELD_AS_NULL = true\n",
        "DATE_FORMAT='YYYYMMDD'\n",
        "encoding = 'EUC-KR';"
      ],
      "metadata": {
        "id": "0iyb3imQDEcf"
      },
      "execution_count": null,
      "outputs": []
    },
    {
      "cell_type": "markdown",
      "source": [
        "3. Stage"
      ],
      "metadata": {
        "id": "Xy9mukX2DXCX"
      }
    },
    {
      "cell_type": "code",
      "source": [
        "create or replace stage gcs_stage_2\n",
        "  url = 'gcs://test-devcourse'\n",
        "  storage_integration = gcs_int\n",
        "  FILE_FORMAT = csv_format_2;\n",
        "\n",
        "create or replace stage my_gcs_stage\n",
        "  url = 'gcs://test-devcourse'\n",
        "  storage_integration = gcs_int\n",
        "  FILE_FORMAT = my_csv_format;\n",
        "\n",
        "list my_gcs_stage;\n",
        "\n",
        "create or replace stage my_gcs_proj2_stage\n",
        "  url = 'gcs://programmers-devcourse-project2'\n",
        "  storage_integration = gcs_proj2\n",
        "  FILE_FORMAT = my_csv_format;\n",
        "\n",
        "CREATE OR REPLACE STAGE my_gcs_proj2_stage2\n",
        "  url = 'gcs://programmers-devcourse-project2'\n",
        "  storage_integration = gcs_proj2\n",
        "  FILE_FORMAT = my_csv_format2;\n"
      ],
      "metadata": {
        "id": "DXdKC86hC0Z9"
      },
      "execution_count": null,
      "outputs": []
    },
    {
      "cell_type": "markdown",
      "source": [
        "## raw data 벌크 업데이트"
      ],
      "metadata": {
        "id": "PDZnTWuZDcnP"
      }
    },
    {
      "cell_type": "markdown",
      "source": [
        "- 서울시 데이터\n",
        "    \n",
        "    **SEOUL_LIFE_LOGISTICS**"
      ],
      "metadata": {
        "id": "bE_MiGqYDer5"
      }
    },
    {
      "cell_type": "code",
      "source": [
        "create or replace table Seoul_life_logistics (\n",
        "    delivery_date DATE,\n",
        "    sender_city VARCHAR(10),\n",
        "    sender_district VARCHAR(10),\n",
        "    recipient_city VARCHAR(10),\n",
        "    recipient_district VARCHAR(10),\n",
        "    category_furniture_and_interior INTEGER,\n",
        "    category_others INTEGER,\n",
        "    category_book_and_music INTEGER,\n",
        "    category_digital_and_appliances INTEGER,\n",
        "    category_living_and_health INTEGER,\n",
        "    category_sports_and_leisure INTEGER,\n",
        "    category_food INTEGER,\n",
        "    category_parenting INTEGER,\n",
        "    category_fashion_clothing INTEGER,\n",
        "    category_fashion_accessories INTEGER,\n",
        "    category_beauty_cosmetics INTEGER\n",
        ");\n",
        "\n",
        "COPY INTO raw_data.Seoul_life_logistics\n",
        "FROM @my_gcs_proj2_stage/Seoul-Life-Logistics/\n",
        "FILES=('SEOUL_SEOUL.csv', 'SEOUL_SIDO.csv', 'SIDO_SEOUL.csv');"
      ],
      "metadata": {
        "id": "zas9OOpQDdqk"
      },
      "execution_count": null,
      "outputs": []
    },
    {
      "cell_type": "markdown",
      "source": [
        "- 시도 데이터\n",
        "    \n",
        "    **SIDO_DELIVERY_INFO**"
      ],
      "metadata": {
        "id": "CZoGSAOfD-HT"
      }
    },
    {
      "cell_type": "code",
      "source": [
        "CREATE OR REPLACE TABLE Sido_delivery_info (\n",
        "    receipt_date DATE,\n",
        "    departure_area VARCHAR(10),\n",
        "    destination_area VARCHAR(10),\n",
        "    category VARCHAR(20),\n",
        "    total_weight INTEGER,\n",
        "    total_volume INTEGER,\n",
        "    total_deliveries INTEGER\n",
        "    );\n",
        "\n",
        "COPY INTO raw_data.Sido_delivery_info\n",
        "FROM(\n",
        "SELECT $2, $3, $4, $5, $7, $8, $6\n",
        "FROM @my_gcs_proj2_stage/Sido-Delivery-Info/\n",
        ")\n",
        "PATTERN='.*\\.csv';"
      ],
      "metadata": {
        "id": "WXmWk1NAD-78"
      },
      "execution_count": null,
      "outputs": []
    },
    {
      "cell_type": "markdown",
      "source": [
        "- 동 데이터\n",
        "    \n",
        "    ****DONG_DELIVERY_INFO_2020****\n",
        "    \n",
        "    ****DONG_DELIVERY_INFO_2021****\n",
        "    \n",
        "    ****DONG_DELIVERY_INFO_2022****"
      ],
      "metadata": {
        "id": "9lc5Xw8-EUiI"
      }
    },
    {
      "cell_type": "code",
      "source": [
        "create or replace table raw_data.dong_delivery_info_2022 (\n",
        "    DISC_NO VARCHAR(64) primary key,\n",
        "    DELIV_DATE DATE,\n",
        "    RCV_DATE DATE,\n",
        "    DELIV_CTPV_NM VARCHAR(50),\n",
        "    DELIV_CTGG_NM VARCHAR(50),\n",
        "    DELIV_ADSTRD_NM VARCHAR(50),\n",
        "    EUPD_IVNM VARCHAR(150)\n",
        "    );\n",
        "\n",
        "COPY INTO raw_data.dong_delivery_info_2022(DISC_NO,DELIV_DATE,RCV_DATE ,DELIV_CTPV_NM ,DELIV_CTGG_NM ,DELIV_ADSTRD_NM,EUPD_IVNM )\n",
        "  FROM (\n",
        "    SELECT c.$3, DATE(c.$1, 'YYYYMMDD'), DATE(c.$17,'YYYYMMDD'), c.$20,c.$21,c.$22,c.$23\n",
        "    FROM @my_gcs_stage c\n",
        "  )\n",
        "PATTERN = '.*22.*[0-9].*.csv'\n",
        "ON_ERROR = 'continue';"
      ],
      "metadata": {
        "id": "Od6QRbfBEVau"
      },
      "execution_count": null,
      "outputs": []
    },
    {
      "cell_type": "markdown",
      "source": [
        "- 지역별 인구수 데이터\n",
        "    \n",
        "    ****POPULATION_DATA_2020****\n",
        "    \n",
        "    ****POPULATION_DATA_2021****\n",
        "    \n",
        "    ****POPULATION_DATA_2022****"
      ],
      "metadata": {
        "id": "_rRpX5kdEq6a"
      }
    },
    {
      "cell_type": "code",
      "source": [
        "create or replace table population_data_2020 (\n",
        "    area_code varchar(20),\n",
        "    area_name varchar(50),\n",
        "    age_group varchar(20),\n",
        "    total_population integer,\n",
        "    male_population integer,\n",
        "    female_population integer\n",
        ");\n",
        "\n",
        "copy into raw_data.population_data_2020\n",
        "from @my_gcs_proj2_stage/Population-by-Region/Population_by_Region_Age_RegionCodes_2020.csv\n",
        "FILE_FORMAT = kor_csv_format;\n",
        "\n",
        "UPDATE raw_data.population_data_2020\n",
        "SET area_name = TRIM(area_name);"
      ],
      "metadata": {
        "id": "egfwyoTuErtW"
      },
      "execution_count": null,
      "outputs": []
    },
    {
      "cell_type": "markdown",
      "source": [
        "- 기타 데이터\n",
        "    \n",
        "    **DISTANCE_BETWEEN_REGIONS**\n",
        "    \n",
        "    ****REGION_CODES****"
      ],
      "metadata": {
        "id": "63hv89KjE4eC"
      }
    },
    {
      "cell_type": "code",
      "source": [
        "CREATE OR REPLACE FILE format kor_csv_format\n",
        "TYPE = csv\n",
        "FIELD_DELIMITER= ','\n",
        "SKIP_HEADER = 1\n",
        "NULL_IF = ('NULL', 'null')\n",
        "EMPTY_FIELD_AS_NULL = true\n",
        "DATE_FORMAT='YYYYMMDD'\n",
        "encoding = 'EUC-KR';\n",
        "\n",
        "\n",
        "create or replace table distance_between_regions(\n",
        "    src_region varchar(10),\n",
        "    dest_region varchar(10),\n",
        "    distance float\n",
        ");\n",
        "\n",
        "COPY INTO raw_data.distance_between_regions\n",
        "FROM @my_gcs_proj2_stage/Region_Info/distance_between_regions.csv\n",
        "\n",
        "create or replace table region_codes(\n",
        "    sido_nm varchar(32),\n",
        "    sigungu_nm varchar(32),\n",
        "    dong_nm varchar(32),\n",
        "    region_code varchar(10)\n",
        ");\n",
        "\n",
        "COPY INTO raw_data.region_codes\n",
        "FROM @my_gcs_proj2_stage/Region_Info/region_codes.csv\n",
        "FILE_FORMAT = kor_csv_format;"
      ],
      "metadata": {
        "id": "eySbSpX1E350"
      },
      "execution_count": null,
      "outputs": []
    },
    {
      "cell_type": "markdown",
      "source": [
        "- 기타 데이터\n",
        "    \n",
        "    ISO_3166_2_KR"
      ],
      "metadata": {
        "id": "xRSnswx4E6G6"
      }
    },
    {
      "cell_type": "code",
      "source": [
        "CREATE OR REPLACE TABLE ISO_3166_2_KR (\n",
        "    AREA_NAME VARCHAR(50) primary key,\n",
        "    ISO_3166_2_CODE VARCHAR(10)\n",
        "    );\n",
        "\n",
        "INSERT INTO ISO_3166_2_KR (AREA_NAME, ISO_3166_2_CODE) VALUES ('강원도', 'KR-42');\n",
        "INSERT INTO ISO_3166_2_KR (AREA_NAME, ISO_3166_2_CODE) VALUES ('강원특별자치도', 'KR-42');\n",
        "INSERT INTO ISO_3166_2_KR (AREA_NAME, ISO_3166_2_CODE) VALUES ('경기도', 'KR-41');\n",
        "INSERT INTO ISO_3166_2_KR (AREA_NAME, ISO_3166_2_CODE) VALUES ('경상남도', 'KR-48');\n",
        "INSERT INTO ISO_3166_2_KR (AREA_NAME, ISO_3166_2_CODE) VALUES ('경상북도', 'KR-47');\n",
        "INSERT INTO ISO_3166_2_KR (AREA_NAME, ISO_3166_2_CODE) VALUES ('광주광역시', 'KR-29');\n",
        "INSERT INTO ISO_3166_2_KR (AREA_NAME, ISO_3166_2_CODE) VALUES ('대구광역시', 'KR-27');\n",
        "INSERT INTO ISO_3166_2_KR (AREA_NAME, ISO_3166_2_CODE) VALUES ('대전광역시', 'KR-30');\n",
        "INSERT INTO ISO_3166_2_KR (AREA_NAME, ISO_3166_2_CODE) VALUES ('부산광역시', 'KR-26');\n",
        "INSERT INTO ISO_3166_2_KR (AREA_NAME, ISO_3166_2_CODE) VALUES ('서울특별시', 'KR-11');\n",
        "INSERT INTO ISO_3166_2_KR (AREA_NAME, ISO_3166_2_CODE) VALUES ('세종특별자치시', 'KR-50');\n",
        "INSERT INTO ISO_3166_2_KR (AREA_NAME, ISO_3166_2_CODE) VALUES ('울산광역시', 'KR-31');\n",
        "INSERT INTO ISO_3166_2_KR (AREA_NAME, ISO_3166_2_CODE) VALUES ('인천광역시', 'KR-28');\n",
        "INSERT INTO ISO_3166_2_KR (AREA_NAME, ISO_3166_2_CODE) VALUES ('전라남도', 'KR-46');\n",
        "INSERT INTO ISO_3166_2_KR (AREA_NAME, ISO_3166_2_CODE) VALUES ('전라북도', 'KR-45');\n",
        "INSERT INTO ISO_3166_2_KR (AREA_NAME, ISO_3166_2_CODE) VALUES ('제주특별자치도', 'KR-49');\n",
        "INSERT INTO ISO_3166_2_KR (AREA_NAME, ISO_3166_2_CODE) VALUES ('충청남도', 'KR-44');\n",
        "INSERT INTO ISO_3166_2_KR (AREA_NAME, ISO_3166_2_CODE) VALUES ('충청북도', 'KR-43');"
      ],
      "metadata": {
        "id": "eOsRes0lE8hU"
      },
      "execution_count": null,
      "outputs": []
    },
    {
      "cell_type": "markdown",
      "source": [
        "## analytics 테이블 작성"
      ],
      "metadata": {
        "id": "svXKwEpKFJPD"
      }
    },
    {
      "cell_type": "markdown",
      "source": [
        "### 지역별 물동량"
      ],
      "metadata": {
        "id": "XnfenqE6FNYy"
      }
    },
    {
      "cell_type": "markdown",
      "source": [
        "*AREA_TOTAL_SUMMARY*"
      ],
      "metadata": {
        "id": "EQTiHhx5FqtF"
      }
    },
    {
      "cell_type": "code",
      "source": [
        "CREATE OR REPLACE TABLE ANALYTICS.AREA_TOTAL_SUMMARY AS\n",
        "SELECT\n",
        "    RECEIPT_DATE,\n",
        "    DEPARTURE_AREA,\n",
        "    DESTINATION_AREA,\n",
        "    SUM(TOTAL_DELIVERIES) AS TOTAL_DELIVERIES_SUM\n",
        "FROM DEV.RAW_DATA.SIDO_DELIVERY_INFO\n",
        "GROUP BY RECEIPT_DATE,DEPARTURE_AREA, DESTINATION_AREA;"
      ],
      "metadata": {
        "id": "bd-GFbkRFNvI"
      },
      "execution_count": null,
      "outputs": []
    },
    {
      "cell_type": "markdown",
      "source": [
        "*DEPARTURE_AREA_TOTAL_SUMMARY*\n"
      ],
      "metadata": {
        "id": "umSTuFwoFggm"
      }
    },
    {
      "cell_type": "code",
      "source": [
        "--출발지역기준 전체 물동량\n",
        "CREATE OR REPLACE TABLE ANALYTICS.DEPARTURE_AREA_TOTAL_SUMMARY AS\n",
        "SELECT\n",
        "    LEFT(RECEIPT_DATE,4) AS RECEIPT_YEAR,\n",
        "    DEPARTURE_AREA,\n",
        "    ISO_3166_2_CODE,\n",
        "    SUM(TOTAL_DELIVERIES_SUM) AS DEPARTURE_AREA_TOTAL_DELIVERIES_SUM,\n",
        "    RANK() OVER (ORDER BY DEPARTURE_AREA_TOTAL_DELIVERIES_SUM) AS ranking,\n",
        "    LOG(10, SUM(TOTAL_DELIVERIES_SUM)) AS LOGARITHM_DEPARTURE_AREA_TOTAL_DELIVERIES_SUM\n",
        "FROM ANALYTICS.AREA_TOTAL_SUMMARY AS A\n",
        "JOIN ISO_3166_2_KR AS B ON A.DEPARTURE_AREA = B.AREA_NAME\n",
        "GROUP BY DEPARTURE_AREA, ISO_3166_2_CODE, RECEIPT_YEAR;\n",
        "--테이블에서 실제값, 랭킹, 로그값 중 골라서 사용가능"
      ],
      "metadata": {
        "id": "uOVSUrEoFh7I"
      },
      "execution_count": null,
      "outputs": []
    },
    {
      "cell_type": "markdown",
      "source": [
        "DESTINATION_AREA_TOTAL_SUMMARY"
      ],
      "metadata": {
        "id": "EqqIbt6yFvQ7"
      }
    },
    {
      "cell_type": "code",
      "source": [
        "--도착지역기준 전체 물동량\n",
        "CREATE OR REPLACE TABLE ANALYTICS.DESTINATION_AREA_TOTAL_SUMMARY AS\n",
        "SELECT\n",
        "    LEFT(RECEIPT_DATE,4) AS RECEIPT_YEAR,\n",
        "    DESTINATION_AREA,\n",
        "    ISO_3166_2_CODE,\n",
        "    SUM(TOTAL_DELIVERIES_SUM) AS DESTINATION_AREA_TOTAL_DELIVERIES_SUM,\n",
        "    RANK() OVER (ORDER BY DESTINATION_AREA_TOTAL_DELIVERIES_SUM) AS ranking,\n",
        "    LOG(10, SUM(TOTAL_DELIVERIES_SUM)) AS LOGARITHM_ESTINATION_AREA_TOTAL_DELIVERIES_SUM\n",
        "FROM ANALYTICS.AREA_TOTAL_SUMMARY AS A\n",
        "JOIN ISO_3166_2_KR AS B ON A.DESTINATION_AREA = B.AREA_NAME\n",
        "GROUP BY DESTINATION_AREA, ISO_3166_2_CODE, RECEIPT_YEAR;\n",
        "--테이블에서 실제값, 랭킹, 로그값 중 골라서 사용가능"
      ],
      "metadata": {
        "id": "dfzkuJwHFv9A"
      },
      "execution_count": null,
      "outputs": []
    },
    {
      "cell_type": "markdown",
      "source": [
        "### 카테고리별 물동량"
      ],
      "metadata": {
        "id": "QbtXjaZ7F_2c"
      }
    },
    {
      "cell_type": "markdown",
      "source": [
        "####    (연도/월)별 카테고리 건수"
      ],
      "metadata": {
        "id": "1QCkDw8pGB6G"
      }
    },
    {
      "cell_type": "markdown",
      "source": [
        "sido_category_summary_groupby_month"
      ],
      "metadata": {
        "id": "m1z9up9oGHJs"
      }
    },
    {
      "cell_type": "code",
      "source": [
        "CREATE OR REPLACE TABLE SIDO_CATEGORY_SUMMARY_GROUPBY_MONTH AS\n",
        "SELECT SUBSTR(RECEIPT_DATE, 6, 2) AS month, CATEGORY, SUM(TOTAL_DELIVERIES) AS total_deliveries\n",
        "FROM dev.raw_data.Sido_delivery_info\n",
        "WHERE RECEIPT_DATE IS NOT NULL\n",
        "GROUP BY month, CATEGORY\n",
        "ORDER BY 1,2;"
      ],
      "metadata": {
        "id": "wpSBjYB8GI1x"
      },
      "execution_count": null,
      "outputs": []
    },
    {
      "cell_type": "markdown",
      "source": [
        "sido_category_summary_groupby_year"
      ],
      "metadata": {
        "id": "-aXbTqdeGKz_"
      }
    },
    {
      "cell_type": "code",
      "source": [
        "CREATE OR REPLACE TABLE SIDO_CATEGORY_SUMMARY_GROUPBY_YEAR AS\n",
        "SELECT EXTRACT(YEAR FROM RECEIPT_DATE) AS year, DESTINATION_AREA, CATEGORY, SUM(TOTAL_DELIVERIES) AS total_deliveries\n",
        "FROM\n",
        "    dev.raw_data.Sido_delivery_info\n",
        "WHERE RECEIPT_DATE IS NOT NULL\n",
        "GROUP BY year, DESTINATION_AREA, CATEGORY;"
      ],
      "metadata": {
        "id": "vh7TsU5sGMXJ"
      },
      "execution_count": null,
      "outputs": []
    },
    {
      "cell_type": "markdown",
      "source": [
        "#### 지역별 카테고리 건수"
      ],
      "metadata": {
        "id": "iwF-MJV4GPed"
      }
    },
    {
      "cell_type": "markdown",
      "source": [
        "sido_category_summary"
      ],
      "metadata": {
        "id": "dEOM_PQ0GQuR"
      }
    },
    {
      "cell_type": "code",
      "source": [
        "CREATE OR REPLACE TABLE SIDO_CATEGORY_SUMMARY AS\n",
        "SELECT DESTINATION_AREA, CATEGORY, SUM(TOTAL_DELIVERIES) AS total_deliveries\n",
        "FROM\n",
        "    dev.raw_data.Sido_delivery_info\n",
        "WHERE RECEIPT_DATE IS NOT NULL\n",
        "GROUP BY DESTINATION_AREA, CATEGORY;"
      ],
      "metadata": {
        "id": "ltJlOMyLGToI"
      },
      "execution_count": null,
      "outputs": []
    },
    {
      "cell_type": "markdown",
      "source": [
        "#### (연도)지역별 생활물류 카테고리 건수"
      ],
      "metadata": {
        "id": "CmGOpbzeGYSA"
      }
    },
    {
      "cell_type": "markdown",
      "source": [
        "seoul_life_logistics_category_all"
      ],
      "metadata": {
        "id": "KeKdkLgCGZrq"
      }
    },
    {
      "cell_type": "code",
      "source": [
        "CREATE OR REPLACE TABLE dev.analytics.SEOUL_LIFE_LOGISTICS_CATEGORY_ALL as\n",
        "SELECT *\n",
        "FROM (\n",
        "SELECT\n",
        "    recipient_district,\n",
        "    '가구/인테리어' AS Category,\n",
        "    SUM(category_furniture_and_interior) AS Value\n",
        "FROM raw_data.Seoul_life_logistics\n",
        "WHERE recipient_city = '서울특별시' AND recipient_district!='NaN'\n",
        "GROUP BY 1\n",
        "UNION\n",
        "SELECT\n",
        "    recipient_district,\n",
        "    '기타' AS Category,\n",
        "    SUM(category_others) AS Value\n",
        "FROM raw_data.Seoul_life_logistics\n",
        "WHERE recipient_city = '서울특별시' AND recipient_district!='NaN'\n",
        "GROUP BY 1\n",
        "UNION\n",
        "SELECT\n",
        "    recipient_district,\n",
        "    '도서/음반' AS Category,\n",
        "    SUM(category_book_and_music) AS Value\n",
        "FROM raw_data.Seoul_life_logistics\n",
        "WHERE recipient_city = '서울특별시' AND recipient_district!='NaN'\n",
        "GROUP BY 1\n",
        "UNION\n",
        "SELECT\n",
        "    recipient_district,\n",
        "    '디지털/가전' AS Category,\n",
        "    SUM(category_digital_and_appliances) AS Value\n",
        "FROM raw_data.Seoul_life_logistics\n",
        "WHERE recipient_city = '서울특별시' AND recipient_district!='NaN'\n",
        "GROUP BY 1\n",
        "UNION\n",
        "SELECT\n",
        "    recipient_district,\n",
        "    '생활/건강' AS Category,\n",
        "    SUM(category_living_and_health) AS Value\n",
        "FROM raw_data.Seoul_life_logistics\n",
        "WHERE recipient_city = '서울특별시' AND recipient_district!='NaN'\n",
        "GROUP BY 1\n",
        "UNION\n",
        "SELECT\n",
        "    recipient_district,\n",
        "    '스포츠/레저' AS Category,\n",
        "    SUM(category_sports_and_leisure) AS Value\n",
        "FROM raw_data.Seoul_life_logistics\n",
        "WHERE recipient_city = '서울특별시' AND recipient_district!='NaN'\n",
        "GROUP BY 1\n",
        "UNION\n",
        "SELECT\n",
        "    recipient_district,\n",
        "    '식품' AS Category,\n",
        "    SUM(category_food) AS Value\n",
        "FROM raw_data.Seoul_life_logistics\n",
        "WHERE recipient_city = '서울특별시' AND recipient_district!='NaN'\n",
        "GROUP BY 1\n",
        "UNION\n",
        "SELECT\n",
        "    recipient_district,\n",
        "    '출산/육아' AS Category,\n",
        "    SUM(category_parenting) AS Value\n",
        "FROM raw_data.Seoul_life_logistics\n",
        "WHERE recipient_city = '서울특별시' AND recipient_district!='NaN'\n",
        "GROUP BY 1\n",
        "UNION\n",
        "SELECT\n",
        "    recipient_district,\n",
        "    '패션의류' AS Category,\n",
        "    SUM(category_fashion_clothing) AS Value\n",
        "FROM raw_data.Seoul_life_logistics\n",
        "WHERE recipient_city = '서울특별시' AND recipient_district!='NaN'\n",
        "GROUP BY 1\n",
        "UNION\n",
        "SELECT\n",
        "    recipient_district,\n",
        "    '패션잡화' AS Category,\n",
        "    SUM(category_fashion_accessories) AS Value\n",
        "FROM raw_data.Seoul_life_logistics\n",
        "WHERE recipient_city = '서울특별시' AND recipient_district!='NaN'\n",
        "GROUP BY 1\n",
        "UNION\n",
        "SELECT\n",
        "    recipient_district,\n",
        "    '화장품/미용' AS Category,\n",
        "    SUM(category_beauty_cosmetics) AS Value\n",
        "FROM raw_data.Seoul_life_logistics\n",
        "WHERE recipient_city = '서울특별시' AND recipient_district!='NaN'\n",
        "GROUP BY 1)\n",
        "ORDER BY recipient_district;"
      ],
      "metadata": {
        "id": "bzB6BQ7cGhb5"
      },
      "execution_count": null,
      "outputs": []
    },
    {
      "cell_type": "markdown",
      "source": [
        "seoul_life_logistics_category_group_by_year"
      ],
      "metadata": {
        "id": "THwYF4PHGeBa"
      }
    },
    {
      "cell_type": "code",
      "source": [
        "CREATE OR REPLACE TABLE dev.analytics.SEOUL_LIFE_LOGISTICS_CATEGORY_GROUP_BY_YEAR as\n",
        "SELECT *\n",
        "FROM (\n",
        "-- 카테고리 바꾸기\n",
        "SELECT\n",
        "    YEAR(delivery_date) AS year,\n",
        "    recipient_district,\n",
        "    '가구/인테리어' AS Category,\n",
        "    SUM(category_furniture_and_interior) AS Value\n",
        "FROM raw_data.Seoul_life_logistics\n",
        "WHERE recipient_city = '서울특별시' AND recipient_district!='NaN'\n",
        "GROUP BY 1, 2\n",
        "UNION\n",
        "SELECT\n",
        "    YEAR(delivery_date) AS year,\n",
        "    recipient_district,\n",
        "    '기타' AS Category,\n",
        "    SUM(category_others) AS Value\n",
        "FROM raw_data.Seoul_life_logistics\n",
        "WHERE recipient_city = '서울특별시' AND recipient_district!='NaN'\n",
        "GROUP BY 1, 2\n",
        "UNION\n",
        "SELECT\n",
        "    YEAR(delivery_date) AS year,\n",
        "    recipient_district,\n",
        "    '도서/음반' AS Category,\n",
        "    SUM(category_book_and_music) AS Value\n",
        "FROM raw_data.Seoul_life_logistics\n",
        "WHERE recipient_city = '서울특별시' AND recipient_district!='NaN'\n",
        "GROUP BY 1, 2\n",
        "UNION\n",
        "SELECT\n",
        "    YEAR(delivery_date) AS year,\n",
        "    recipient_district,\n",
        "    '디지털/가전' AS Category,\n",
        "    SUM(category_digital_and_appliances) AS Value\n",
        "FROM raw_data.Seoul_life_logistics\n",
        "WHERE recipient_city = '서울특별시' AND recipient_district!='NaN'\n",
        "GROUP BY 1, 2\n",
        "UNION\n",
        "SELECT\n",
        "    YEAR(delivery_date) AS year,\n",
        "    recipient_district,\n",
        "    '생활/건강' AS Category,\n",
        "    SUM(category_living_and_health) AS Value\n",
        "FROM raw_data.Seoul_life_logistics\n",
        "WHERE recipient_city = '서울특별시' AND recipient_district!='NaN'\n",
        "GROUP BY 1, 2\n",
        "UNION\n",
        "SELECT\n",
        "    YEAR(delivery_date) AS year,\n",
        "    recipient_district,\n",
        "    '스포츠/레저' AS Category,\n",
        "    SUM(category_sports_and_leisure) AS Value\n",
        "FROM raw_data.Seoul_life_logistics\n",
        "WHERE recipient_city = '서울특별시' AND recipient_district!='NaN'\n",
        "GROUP BY 1, 2\n",
        "UNION\n",
        "SELECT\n",
        "    YEAR(delivery_date) AS year,\n",
        "    recipient_district,\n",
        "    '식품' AS Category,\n",
        "    SUM(category_food) AS Value\n",
        "FROM raw_data.Seoul_life_logistics\n",
        "WHERE recipient_city = '서울특별시' AND recipient_district!='NaN'\n",
        "GROUP BY 1, 2\n",
        "UNION\n",
        "SELECT\n",
        "    YEAR(delivery_date) AS year,\n",
        "    recipient_district,\n",
        "    '출산/육아' AS Category,\n",
        "    SUM(category_parenting) AS Value\n",
        "FROM raw_data.Seoul_life_logistics\n",
        "WHERE recipient_city = '서울특별시' AND recipient_district!='NaN'\n",
        "GROUP BY 1, 2\n",
        "UNION\n",
        "SELECT\n",
        "    YEAR(delivery_date) AS year,\n",
        "    recipient_district,\n",
        "    '패션의류' AS Category,\n",
        "    SUM(category_fashion_clothing) AS Value\n",
        "FROM raw_data.Seoul_life_logistics\n",
        "WHERE recipient_city = '서울특별시' AND recipient_district!='NaN'\n",
        "GROUP BY 1, 2\n",
        "UNION\n",
        "SELECT\n",
        "    YEAR(delivery_date) AS year,\n",
        "    recipient_district,\n",
        "    '패션잡화' AS Category,\n",
        "    SUM(category_fashion_accessories) AS Value\n",
        "FROM raw_data.Seoul_life_logistics\n",
        "WHERE recipient_city = '서울특별시' AND recipient_district!='NaN'\n",
        "GROUP BY 1, 2\n",
        "UNION\n",
        "SELECT\n",
        "    YEAR(delivery_date) AS year,\n",
        "    recipient_district,\n",
        "    '화장품/미용' AS Category,\n",
        "    SUM(category_beauty_cosmetics) AS Value\n",
        "FROM raw_data.Seoul_life_logistics\n",
        "WHERE recipient_city = '서울특별시' AND recipient_district!='NaN'\n",
        "GROUP BY 1, 2)\n",
        "ORDER BY year, recipient_district;"
      ],
      "metadata": {
        "id": "CngwaryoGj8P"
      },
      "execution_count": null,
      "outputs": []
    },
    {
      "cell_type": "markdown",
      "source": [
        "### 기간별 물동량 추이"
      ],
      "metadata": {
        "id": "wFqqby40GqPU"
      }
    },
    {
      "cell_type": "markdown",
      "source": [
        "DAY_TOTAL_SUMMARY"
      ],
      "metadata": {
        "id": "xb5YmeN-Gv8O"
      }
    },
    {
      "cell_type": "code",
      "source": [
        "--DAY_TOTAL_SUMMARY 일별 총물동량\n",
        "CREATE OR REPLACE TABLE ANALYTICS.DAY_TOTAL_SUMMARY AS\n",
        "SELECT\n",
        "    RECEIPT_DATE AS DAY_DATE,\n",
        "    SUM(TOTAL_DELIVERIES) AS TOTAL_DELIVERIES_SUM\n",
        "FROM DEV.RAW_DATA.SIDO_DELIVERY_INFO\n",
        "GROUP BY DAY_DATE;"
      ],
      "metadata": {
        "id": "pOwZOAU3G5Qq"
      },
      "execution_count": null,
      "outputs": []
    },
    {
      "cell_type": "markdown",
      "source": [
        "### 지역별 배송기간"
      ],
      "metadata": {
        "id": "R6CG4ETUGsqI"
      }
    },
    {
      "cell_type": "markdown",
      "source": [
        "CITY_DELIVINFO_DISTANCES"
      ],
      "metadata": {
        "id": "z4SFLTJuGyzl"
      }
    },
    {
      "cell_type": "code",
      "source": [
        "create or replace table city_delivinfo_distances as\n",
        "select rc_src.sido_nm as src_city, src_region_code, rc_dest.sido_nm as dest_city, dest_region_code, deliv_days, deliv_counts, distance\n",
        "    from region_delivinfo_distances rdd\n",
        "        join raw_data.full_region_codes rc_src\n",
        "        on rdd.src_region_code = rc_src.region_code\n",
        "        join raw_data.full_region_codes rc_dest\n",
        "        on rdd.dest_region_code = rc_dest.region_code;\n",
        "select sum(deliv_counts) from city_delivinfo_distances;\n",
        "\n",
        "create or replace table city_delivinfo_distances_isocode as\n",
        "select src_iso.iso_3166_2_code as src_iso, dest_iso.iso_3166_2_code as dest_iso, cdd.*\n",
        "    from city_delivinfo_distances cdd\n",
        "    join public.iso_3166_2_kr src_iso\n",
        "    on cdd.src_city = src_iso.area_name\n",
        "    join public.iso_3166_2_kr dest_iso\n",
        "    on cdd.dest_city = dest_iso.area_name;"
      ],
      "metadata": {
        "id": "XihjixAfG-Id"
      },
      "execution_count": null,
      "outputs": []
    },
    {
      "cell_type": "markdown",
      "source": [
        "COUNTY_DELIVINFO_DISTANCES"
      ],
      "metadata": {
        "id": "NN7jAGuMGz-j"
      }
    },
    {
      "cell_type": "code",
      "source": [
        "create or replace table county_delivinfo_distances as\n",
        "select concat(rc_src.sido_nm, ' ', rc_src.sigungu_nm) as src_county, src_region_code, concat(rc_dest.sido_nm, ' ', rc_dest.sigungu_nm) as dest_county, dest_region_code, deliv_days, deliv_counts, distance\n",
        "    from region_delivinfo_distances rdd\n",
        "        join raw_data.region_codes rc_src\n",
        "        on rdd.src_region_code = rc_src.region_code\n",
        "        join raw_data.region_codes rc_dest\n",
        "        on rdd.dest_region_code = rc_dest.region_code;\n",
        "select sum(deliv_counts) from county_delivinfo_distances;"
      ],
      "metadata": {
        "id": "lGR7hGxLHBfS"
      },
      "execution_count": null,
      "outputs": []
    },
    {
      "cell_type": "markdown",
      "source": [
        "DELIVERY_QUANTITY_ROUTE"
      ],
      "metadata": {
        "id": "DzWkAcjPG1Ev"
      }
    },
    {
      "cell_type": "code",
      "source": [
        "create or replace table delivery_quantity_route as\n",
        "SELECT\n",
        "    SRC_CITY, DEST_CITY,\n",
        "    CONCAT(SRC_CITY, ' -> ', DEST_CITY) AS deliv_route,\n",
        "    sum(deliv_days*deliv_counts)/sum(deliv_counts) as avg_deliv_days,\n",
        "    sum(\"DELIV_COUNTS\") AS deliv_counts\n",
        "FROM analytics.city_delivinfo_distances\n",
        "where src_city not like '제주%' and dest_city not like '제주%'\n",
        "GROUP BY 1,2\n",
        "order by 5 desc;"
      ],
      "metadata": {
        "id": "_BGaL0u2HD-t"
      },
      "execution_count": null,
      "outputs": []
    },
    {
      "cell_type": "markdown",
      "source": [
        "DELIVERY_HARSHREGION_ROUTE"
      ],
      "metadata": {
        "id": "9tnNVzgtG2EB"
      }
    },
    {
      "cell_type": "code",
      "source": [
        "create table delivery_harshregion_route as\n",
        "SELECT\n",
        "    SRC_CITY, DEST_CITY,\n",
        "    CONCAT(SRC_CITY, ' -> ', DEST_CITY) AS deliv_route,\n",
        "    sum(deliv_days*deliv_counts)/sum(deliv_counts) as avg_deliv_days,\n",
        "    avg(distance) as avg_distance\n",
        "FROM analytics.city_delivinfo_distances\n",
        "where src_city like '제주%' or dest_city like '제주%'\n",
        "GROUP BY 1,2\n",
        "ORDER BY avg_deliv_days desc;"
      ],
      "metadata": {
        "id": "H5sS1enoHFjE"
      },
      "execution_count": null,
      "outputs": []
    },
    {
      "cell_type": "markdown",
      "source": [
        "DELIVERY_CATEGORY_ROUTE"
      ],
      "metadata": {
        "id": "OlYtMGqZG3KK"
      }
    },
    {
      "cell_type": "code",
      "source": [
        "create or replace table delivery_category_route as\n",
        "select\n",
        "    src_city,\n",
        "    dest_city,\n",
        "    deliv_route,\n",
        "    deliv_counts,\n",
        "    avg_deliv_days,\n",
        "    avg_distance,\n",
        "    case\n",
        "        when (src_city like '제주%') or (dest_city like '제주%') then '산간지역 배송'\n",
        "        when (RANK() OVER (ORDER BY deliv_counts DESC)) <= 10 then '물량 TOP 10 배송경로'\n",
        "        when src_city like dest_city then '같은지역 배송'\n",
        "        else '기타'\n",
        "    end as route_category\n",
        "from(\n",
        "SELECT\n",
        "    SRC_CITY, DEST_CITY,\n",
        "    CONCAT(SRC_CITY, ' -> ', DEST_CITY) AS deliv_route,\n",
        "    sum(deliv_days*deliv_counts)/sum(deliv_counts) as avg_deliv_days,\n",
        "    sum(\"DELIV_COUNTS\") AS deliv_counts,\n",
        "    avg(distance) as avg_distance\n",
        "FROM analytics.city_delivinfo_distances\n",
        "GROUP BY 1,2\n",
        ")\n",
        "order by deliv_counts desc;"
      ],
      "metadata": {
        "id": "z8wSqC8gHHlK"
      },
      "execution_count": null,
      "outputs": []
    }
  ]
}